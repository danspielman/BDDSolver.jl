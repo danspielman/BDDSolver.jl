{
 "cells": [
  {
   "cell_type": "code",
   "execution_count": 1,
   "metadata": {
    "ExecuteTime": {
     "end_time": "2019-07-29T10:47:24.955000-04:00",
     "start_time": "2019-07-29T14:47:15.210Z"
    }
   },
   "outputs": [
    {
     "name": "stderr",
     "output_type": "stream",
     "text": [
      "┌ Info: Recompiling stale cache file /Users/spielman/.julia/compiled/v1.1/BDDSolver/swp1u.ji for BDDSolver [95f1ead4-b199-11e9-27b9-1968b166e826]\n",
      "└ @ Base loading.jl:1184\n"
     ]
    }
   ],
   "source": [
    "#using Revise\n",
    "using BDDSolver, LinearAlgebra, Random\n",
    "Random.seed!(1);"
   ]
  },
  {
   "cell_type": "markdown",
   "metadata": {
    "ExecuteTime": {
     "end_time": "2019-07-29T09:11:08.942000-04:00",
     "start_time": "2019-07-29T13:11:08.916Z"
    }
   },
   "source": [
    "# A First Example - a Laplacian"
   ]
  },
  {
   "cell_type": "markdown",
   "metadata": {},
   "source": [
    "The BDDSolver is for solving systems of linear equations in block matrices.  These must be nonsingular and block diagonally dominant.  To begin testing, let's generate one by casting a SDD (Laplacian plus diagonal) in this form, and then solve the resulting system."
   ]
  },
  {
   "cell_type": "code",
   "execution_count": 2,
   "metadata": {
    "ExecuteTime": {
     "end_time": "2019-07-29T10:47:32.991000-04:00",
     "start_time": "2019-07-29T14:47:15.213Z"
    }
   },
   "outputs": [
    {
     "data": {
      "text/plain": [
       "16.03555232314551"
      ]
     },
     "execution_count": 2,
     "metadata": {},
     "output_type": "execute_result"
    }
   ],
   "source": [
    "n = 10\n",
    "la = lap(wted_chimera(n,1))\n",
    "la[1,1] += 1"
   ]
  },
  {
   "cell_type": "markdown",
   "metadata": {},
   "source": [
    "So, `la` is the matrix in which we want to solve a system.  Convert it into a block matrix."
   ]
  },
  {
   "cell_type": "code",
   "execution_count": 3,
   "metadata": {
    "ExecuteTime": {
     "end_time": "2019-07-29T10:47:34.571000-04:00",
     "start_time": "2019-07-29T14:47:15.215Z"
    }
   },
   "outputs": [
    {
     "data": {
      "text/plain": [
       "10×10 BlockCSC{1,Float64,1}:\n",
       " [16.0356]    [-0.430149]  [-3.63431]   …  [0.0]        [-2.65027] \n",
       " [-0.430149]  [12.0048]    [-3.20416]      [-1.34011]   [0.0]      \n",
       " [-3.63431]   [-3.20416]   [16.1088]       [-1.86405]   [0.0]      \n",
       " [-2.80671]   [-2.37656]   [-0.827597]     [-1.03645]   [0.0]      \n",
       " [0.0]        [0.0]        [-2.9598]       [-1.09575]   [-1.97577] \n",
       " [0.0]        [0.0]        [-3.61885]   …  [-1.7548]    [-2.63481] \n",
       " [-3.4796]    [-3.04945]   [0.0]           [0.0]        [-0.829328]\n",
       " [-2.03451]   [-1.60437]   [0.0]           [0.0]        [-0.615758]\n",
       " [0.0]        [-1.34011]   [-1.86405]      [7.97118]    [-0.880011]\n",
       " [-2.65027]   [0.0]        [0.0]           [-0.880011]  [9.58595]  "
      ]
     },
     "execution_count": 3,
     "metadata": {},
     "output_type": "execute_result"
    }
   ],
   "source": [
    "B = BlockCSC(la)"
   ]
  },
  {
   "cell_type": "markdown",
   "metadata": {},
   "source": [
    "The following code constructs the solver for the linear system."
   ]
  },
  {
   "cell_type": "code",
   "execution_count": 4,
   "metadata": {
    "ExecuteTime": {
     "end_time": "2019-07-29T10:47:36.645000-04:00",
     "start_time": "2019-07-29T14:47:15.218Z"
    }
   },
   "outputs": [
    {
     "name": "stdout",
     "output_type": "stream",
     "text": [
      "Time to construct mat to analyze 5.0067901611328125e-6\n",
      "Time to compute elimination structure 2.9087066650390625e-5\n",
      "Time to prepare for elimination 3.0994415283203125e-6\n",
      "Time to eliminate 9.5367431640625e-7\n",
      "Total solver build time: 0.10144495964050293\n",
      "Ratio of operator edges to original edges: 1.3142857142857143\n"
     ]
    },
    {
     "data": {
      "text/plain": [
       "(::getfield(BDDSolver, Symbol(\"#f1#12\")){BDDSolver.PCG_params,getfield(BDDSolver, Symbol(\"##f1#9#11\")){BDDSolver.PCG_params,BlockCSC{1,Float64,1},getfield(BDDSolver, Symbol(\"#F!#10\")){BDDSolver.PermLTCSC{Int64,StaticArrays.SArray{Tuple{1,1},Float64,2,1}}}}}) (generic function with 1 method)"
      ]
     },
     "execution_count": 4,
     "metadata": {},
     "output_type": "execute_result"
    }
   ],
   "source": [
    "sol = approxCholBDD(B, verbose=true)"
   ]
  },
  {
   "cell_type": "code",
   "execution_count": 5,
   "metadata": {
    "ExecuteTime": {
     "end_time": "2019-07-29T10:47:38.923000-04:00",
     "start_time": "2019-07-29T14:47:15.220Z"
    }
   },
   "outputs": [
    {
     "name": "stdout",
     "output_type": "stream",
     "text": [
      "PCG stopped after: 0.0 seconds and 7 iterations with relative error 3.900346121414374e-8.\n"
     ]
    },
    {
     "data": {
      "text/plain": [
       "10-element Array{Float64,1}:\n",
       " -3.3359467843576476\n",
       " -3.529550419132262 \n",
       " -3.516582448067082 \n",
       " -3.526822294753162 \n",
       " -3.5460464366210562\n",
       " -3.5874747784108196\n",
       " -3.483910627837018 \n",
       " -3.322269351611948 \n",
       " -3.627431834723096 \n",
       " -3.4216386027745203"
      ]
     },
     "execution_count": 5,
     "metadata": {},
     "output_type": "execute_result"
    }
   ],
   "source": [
    "b = randn(n)\n",
    "x = sol(b)"
   ]
  },
  {
   "cell_type": "code",
   "execution_count": 6,
   "metadata": {
    "ExecuteTime": {
     "end_time": "2019-07-29T10:47:39.101000-04:00",
     "start_time": "2019-07-29T14:47:15.221Z"
    }
   },
   "outputs": [
    {
     "data": {
      "text/plain": [
       "9.83622291203584e-8"
      ]
     },
     "execution_count": 6,
     "metadata": {},
     "output_type": "execute_result"
    }
   ],
   "source": [
    "norm(la*x - b)"
   ]
  },
  {
   "cell_type": "markdown",
   "metadata": {},
   "source": [
    "# An SDD matrix - with both positive and negative off-diagonals"
   ]
  },
  {
   "cell_type": "code",
   "execution_count": 7,
   "metadata": {
    "ExecuteTime": {
     "end_time": "2019-07-29T10:47:39.957000-04:00",
     "start_time": "2019-07-29T14:47:15.223Z"
    }
   },
   "outputs": [
    {
     "data": {
      "text/plain": [
       "20×20 SparseMatrixCSC{Float64,Int64} with 56 stored entries:\n",
       "  [5 ,  1]  =  1.0\n",
       "  [10,  1]  =  -1.0\n",
       "  [15,  1]  =  -1.0\n",
       "  [13,  2]  =  1.0\n",
       "  [14,  2]  =  -1.0\n",
       "  [20,  2]  =  1.0\n",
       "  [4 ,  3]  =  1.0\n",
       "  [7 ,  3]  =  -1.0\n",
       "  [19,  3]  =  1.0\n",
       "  [3 ,  4]  =  1.0\n",
       "  [7 ,  4]  =  -1.0\n",
       "  [10,  4]  =  1.0\n",
       "  ⋮\n",
       "  [12, 16]  =  -1.0\n",
       "  [6 , 17]  =  -2.0\n",
       "  [19, 17]  =  1.0\n",
       "  [5 , 18]  =  -1.0\n",
       "  [11, 18]  =  -1.0\n",
       "  [19, 18]  =  1.0\n",
       "  [3 , 19]  =  1.0\n",
       "  [17, 19]  =  1.0\n",
       "  [18, 19]  =  1.0\n",
       "  [2 , 20]  =  1.0\n",
       "  [8 , 20]  =  -1.0\n",
       "  [11, 20]  =  -1.0"
      ]
     },
     "execution_count": 7,
     "metadata": {},
     "output_type": "execute_result"
    }
   ],
   "source": [
    "n = 20\n",
    "a_tri = triu(rand_regular(n,3))\n",
    "a_tri.nzval .*= rand(-1:2:1, length(a_tri.nzval))\n",
    "a = a_tri + a_tri'"
   ]
  },
  {
   "cell_type": "code",
   "execution_count": 8,
   "metadata": {
    "ExecuteTime": {
     "end_time": "2019-07-29T10:47:40.036000-04:00",
     "start_time": "2019-07-29T14:47:15.224Z"
    }
   },
   "outputs": [
    {
     "data": {
      "text/plain": [
       "(::getfield(BDDSolver, Symbol(\"#f1#12\")){BDDSolver.PCG_params,getfield(BDDSolver, Symbol(\"##f1#9#11\")){BDDSolver.PCG_params,BlockCSC{1,Float64,1},getfield(BDDSolver, Symbol(\"#F!#10\")){BDDSolver.PermLTCSC{Int64,StaticArrays.SArray{Tuple{1,1},Float64,2,1}}}}}) (generic function with 1 method)"
      ]
     },
     "execution_count": 8,
     "metadata": {},
     "output_type": "execute_result"
    }
   ],
   "source": [
    "sdd = 3.1*I - a\n",
    "B = BlockCSC(sdd)\n",
    "sol = approxCholBDD(B)"
   ]
  },
  {
   "cell_type": "code",
   "execution_count": 9,
   "metadata": {
    "ExecuteTime": {
     "end_time": "2019-07-29T10:47:40.063000-04:00",
     "start_time": "2019-07-29T14:47:15.226Z"
    }
   },
   "outputs": [
    {
     "data": {
      "text/plain": [
       "3.687053385990559e-7"
      ]
     },
     "execution_count": 9,
     "metadata": {},
     "output_type": "execute_result"
    }
   ],
   "source": [
    "b = randn(n)\n",
    "x = sol(b)\n",
    "norm(sdd*x - b)"
   ]
  },
  {
   "cell_type": "markdown",
   "metadata": {},
   "source": [
    "# Block Matrices and Vectors"
   ]
  },
  {
   "cell_type": "markdown",
   "metadata": {},
   "source": [
    "We represent block matrices as sparse matrices of matrices of fixed size, using Static Arrays to represent the latter.  We can cast an ordinary vector to a `BlockVec` as follows"
   ]
  },
  {
   "cell_type": "code",
   "execution_count": 10,
   "metadata": {
    "ExecuteTime": {
     "end_time": "2019-07-29T10:47:41.133000-04:00",
     "start_time": "2019-07-29T14:47:15.228Z"
    }
   },
   "outputs": [
    {
     "data": {
      "text/plain": [
       "3-element reinterpret(StaticArrays.SArray{Tuple{2},Float64,1,2}, ::Array{Float64,1}):\n",
       " [-0.557151, -0.139962]\n",
       " [-0.254902, -1.27133] \n",
       " [0.754751, 1.04847]   "
      ]
     },
     "execution_count": 10,
     "metadata": {},
     "output_type": "execute_result"
    }
   ],
   "source": [
    "x = randn(6)\n",
    "xb = BlockVec(2,x)"
   ]
  },
  {
   "cell_type": "markdown",
   "metadata": {
    "ExecuteTime": {
     "end_time": "2019-07-29T10:30:25.393000-04:00",
     "start_time": "2019-07-29T14:30:25.230Z"
    }
   },
   "source": [
    "Note that the result is just a view of x, which means that changes to `x` also change `xb`"
   ]
  },
  {
   "cell_type": "code",
   "execution_count": 11,
   "metadata": {
    "ExecuteTime": {
     "end_time": "2019-07-29T10:47:41.166000-04:00",
     "start_time": "2019-07-29T14:47:15.230Z"
    }
   },
   "outputs": [
    {
     "data": {
      "text/plain": [
       "6-element Array{Float64,1}:\n",
       " -0.55715149300881   \n",
       " -0.13996160847232697\n",
       " -0.2549015022672395 \n",
       " -1.271334809102429  \n",
       "  0.7547507621437772 \n",
       "  1.0484665971648446 "
      ]
     },
     "execution_count": 11,
     "metadata": {},
     "output_type": "execute_result"
    }
   ],
   "source": [
    "x"
   ]
  },
  {
   "cell_type": "code",
   "execution_count": 12,
   "metadata": {
    "ExecuteTime": {
     "end_time": "2019-07-29T10:47:41.197000-04:00",
     "start_time": "2019-07-29T14:47:15.231Z"
    }
   },
   "outputs": [
    {
     "data": {
      "text/plain": [
       "6-element Array{Float64,1}:\n",
       "  0.0                \n",
       " -0.13996160847232697\n",
       " -0.2549015022672395 \n",
       " -1.271334809102429  \n",
       "  0.7547507621437772 \n",
       "  1.0484665971648446 "
      ]
     },
     "execution_count": 12,
     "metadata": {},
     "output_type": "execute_result"
    }
   ],
   "source": [
    "x[1] = 0\n",
    "x"
   ]
  },
  {
   "cell_type": "code",
   "execution_count": 13,
   "metadata": {
    "ExecuteTime": {
     "end_time": "2019-07-29T10:47:41.223000-04:00",
     "start_time": "2019-07-29T14:47:15.233Z"
    }
   },
   "outputs": [
    {
     "data": {
      "text/plain": [
       "3-element reinterpret(StaticArrays.SArray{Tuple{2},Float64,1,2}, ::Array{Float64,1}):\n",
       " [0.0, -0.139962]     \n",
       " [-0.254902, -1.27133]\n",
       " [0.754751, 1.04847]  "
      ]
     },
     "execution_count": 13,
     "metadata": {},
     "output_type": "execute_result"
    }
   ],
   "source": [
    "xb"
   ]
  },
  {
   "cell_type": "markdown",
   "metadata": {},
   "source": [
    "If you want to avoid, this you should copy the vector."
   ]
  },
  {
   "cell_type": "code",
   "execution_count": 14,
   "metadata": {
    "ExecuteTime": {
     "end_time": "2019-07-29T10:47:42.187000-04:00",
     "start_time": "2019-07-29T14:47:15.235Z"
    }
   },
   "outputs": [
    {
     "data": {
      "text/plain": [
       "3-element Array{StaticArrays.SArray{Tuple{2},Float64,1,2},1}:\n",
       " [0.0, -0.139962]     \n",
       " [-0.254902, -1.27133]\n",
       " [0.754751, 1.04847]  "
      ]
     },
     "execution_count": 14,
     "metadata": {},
     "output_type": "execute_result"
    }
   ],
   "source": [
    "xb = copy(BlockVec(2, x))\n",
    "x[1] = 1\n",
    "xb"
   ]
  },
  {
   "cell_type": "markdown",
   "metadata": {},
   "source": [
    "We can convert the answer back to an ordinary vector with `FlatVec`.  You will note that this is also just a view.  So, if you want to avoid the resulting complications, copy it."
   ]
  },
  {
   "cell_type": "code",
   "execution_count": 15,
   "metadata": {
    "ExecuteTime": {
     "end_time": "2019-07-29T10:47:43.010000-04:00",
     "start_time": "2019-07-29T14:47:15.236Z"
    }
   },
   "outputs": [
    {
     "data": {
      "text/plain": [
       "6-element reinterpret(Float64, ::Array{StaticArrays.SArray{Tuple{2},Float64,1,2},1}):\n",
       "  0.0                \n",
       " -0.13996160847232697\n",
       " -0.2549015022672395 \n",
       " -1.271334809102429  \n",
       "  0.7547507621437772 \n",
       "  1.0484665971648446 "
      ]
     },
     "execution_count": 15,
     "metadata": {},
     "output_type": "execute_result"
    }
   ],
   "source": [
    "FlatVec(xb)"
   ]
  },
  {
   "cell_type": "code",
   "execution_count": 16,
   "metadata": {
    "ExecuteTime": {
     "end_time": "2019-07-29T10:47:43.061000-04:00",
     "start_time": "2019-07-29T14:47:15.238Z"
    }
   },
   "outputs": [
    {
     "data": {
      "text/plain": [
       "6-element Array{Float64,1}:\n",
       "  0.0                \n",
       " -0.13996160847232697\n",
       " -0.2549015022672395 \n",
       " -1.271334809102429  \n",
       "  0.7547507621437772 \n",
       "  1.0484665971648446 "
      ]
     },
     "execution_count": 16,
     "metadata": {},
     "output_type": "execute_result"
    }
   ],
   "source": [
    "copy(FlatVec(xb))"
   ]
  },
  {
   "cell_type": "markdown",
   "metadata": {},
   "source": [
    "## Constructing a block matrix"
   ]
  },
  {
   "cell_type": "markdown",
   "metadata": {},
   "source": [
    "The code `randOrthWt` will replace an ordinary sparse matrix with one in which every block has been replaced by a random orthogonal matrix, and fixes the diagonals so the result is a connection Laplacian.  Let's do it with 2-by-2 matrices.  "
   ]
  },
  {
   "cell_type": "code",
   "execution_count": 17,
   "metadata": {
    "ExecuteTime": {
     "end_time": "2019-07-29T10:47:43.686000-04:00",
     "start_time": "2019-07-29T14:47:15.240Z"
    }
   },
   "outputs": [
    {
     "data": {
      "text/plain": [
       "10-element SparseVector{Float64,Int64} with 3 stored entries:\n",
       "  [2 ]  =  1.0\n",
       "  [3 ]  =  1.0\n",
       "  [9 ]  =  1.0"
      ]
     },
     "execution_count": 17,
     "metadata": {},
     "output_type": "execute_result"
    }
   ],
   "source": [
    "Random.seed!(1)\n",
    "a = rand_regular(10,3)\n",
    "a[:,1]"
   ]
  },
  {
   "cell_type": "code",
   "execution_count": 18,
   "metadata": {
    "ExecuteTime": {
     "end_time": "2019-07-29T10:47:46.577000-04:00",
     "start_time": "2019-07-29T14:47:15.241Z"
    }
   },
   "outputs": [
    {
     "data": {
      "text/plain": [
       "10-element SparseVector{StaticArrays.SArray{Tuple{2,2},Float64,2,4},Int64} with 4 stored entries:\n",
       "  [1 ]  =  [3.0 0.0; 0.0 3.0]\n",
       "  [2 ]  =  [-0.813483 -0.581588; -0.581588 0.813483]\n",
       "  [3 ]  =  [-0.987632 -0.156788; 0.156788 -0.987632]\n",
       "  [9 ]  =  [0.770584 0.637338; 0.637338 -0.770584]"
      ]
     },
     "execution_count": 18,
     "metadata": {},
     "output_type": "execute_result"
    }
   ],
   "source": [
    "B = randOrthWt(a,2)\n",
    "B[:,1]"
   ]
  },
  {
   "cell_type": "markdown",
   "metadata": {},
   "source": [
    "We can recover the matrix with `sparse`.  Let's check its eigenvalues to see if it is singular.  "
   ]
  },
  {
   "cell_type": "code",
   "execution_count": 19,
   "metadata": {
    "ExecuteTime": {
     "end_time": "2019-07-29T10:47:47.325000-04:00",
     "start_time": "2019-07-29T14:47:15.276Z"
    }
   },
   "outputs": [
    {
     "data": {
      "text/plain": [
       "20×20 SparseMatrixCSC{Float64,Int64} with 160 stored entries:\n",
       "  [1 ,  1]  =  3.0\n",
       "  [2 ,  1]  =  0.0\n",
       "  [3 ,  1]  =  -0.813483\n",
       "  [4 ,  1]  =  -0.581588\n",
       "  [5 ,  1]  =  -0.987632\n",
       "  [6 ,  1]  =  0.156788\n",
       "  [17,  1]  =  0.770584\n",
       "  [18,  1]  =  0.637338\n",
       "  [1 ,  2]  =  0.0\n",
       "  [2 ,  2]  =  3.0\n",
       "  [3 ,  2]  =  -0.581588\n",
       "  [4 ,  2]  =  0.813483\n",
       "  ⋮\n",
       "  [15, 19]  =  0.201878\n",
       "  [16, 19]  =  -0.979411\n",
       "  [19, 19]  =  3.0\n",
       "  [20, 19]  =  0.0\n",
       "  [3 , 20]  =  -0.355274\n",
       "  [4 , 20]  =  -0.934762\n",
       "  [13, 20]  =  -0.984712\n",
       "  [14, 20]  =  -0.174191\n",
       "  [15, 20]  =  -0.979411\n",
       "  [16, 20]  =  -0.201878\n",
       "  [19, 20]  =  0.0\n",
       "  [20, 20]  =  3.0"
      ]
     },
     "execution_count": 19,
     "metadata": {},
     "output_type": "execute_result"
    }
   ],
   "source": [
    "sB = sparse(B)"
   ]
  },
  {
   "cell_type": "code",
   "execution_count": 20,
   "metadata": {
    "ExecuteTime": {
     "end_time": "2019-07-29T10:47:47.821000-04:00",
     "start_time": "2019-07-29T14:47:15.277Z"
    }
   },
   "outputs": [
    {
     "data": {
      "text/plain": [
       "20-element Array{Float64,1}:\n",
       " 0.3796506426946875\n",
       " 0.4356062953226407\n",
       " 0.9666889031643245\n",
       " 1.0627240613063844\n",
       " 1.2247771097913502\n",
       " 1.3120592060295233\n",
       " 1.972734487306134 \n",
       " 1.999954012872599 \n",
       " 2.430054323940155 \n",
       " 2.6517500302207546\n",
       " 3.09818350049866  \n",
       " 3.5961656086619134\n",
       " 3.9264446348749975\n",
       " 4.319403051352489 \n",
       " 4.61516933373107  \n",
       " 4.8441603726186555\n",
       " 4.993075596872082 \n",
       " 5.170596748822682 \n",
       " 5.443432319568885 \n",
       " 5.557369760350015 "
      ]
     },
     "execution_count": 20,
     "metadata": {},
     "output_type": "execute_result"
    }
   ],
   "source": [
    "eigvals(Matrix(sB))"
   ]
  },
  {
   "cell_type": "markdown",
   "metadata": {},
   "source": [
    "It is not singular, so let's try to solve the linear system."
   ]
  },
  {
   "cell_type": "code",
   "execution_count": 21,
   "metadata": {
    "ExecuteTime": {
     "end_time": "2019-07-29T10:47:48.599000-04:00",
     "start_time": "2019-07-29T14:47:15.279Z"
    }
   },
   "outputs": [
    {
     "name": "stdout",
     "output_type": "stream",
     "text": [
      "Time to construct mat to analyze 7.867813110351562e-6\n",
      "Time to compute elimination structure 1.1920928955078125e-5\n",
      "Time to prepare for elimination 1.9073486328125e-6\n",
      "Time to eliminate 3.0994415283203125e-6\n",
      "Total solver build time: 0.00030684471130371094\n",
      "Ratio of operator edges to original edges: 1.65\n"
     ]
    },
    {
     "data": {
      "text/plain": [
       "(::getfield(BDDSolver, Symbol(\"#f1#12\")){BDDSolver.PCG_params,getfield(BDDSolver, Symbol(\"##f1#9#11\")){BDDSolver.PCG_params,BlockCSC{2,Float64,4},getfield(BDDSolver, Symbol(\"#F!#10\")){BDDSolver.PermLTCSC{Int64,StaticArrays.SArray{Tuple{2,2},Float64,2,4}}}}}) (generic function with 1 method)"
      ]
     },
     "execution_count": 21,
     "metadata": {},
     "output_type": "execute_result"
    }
   ],
   "source": [
    "sol = approxCholBDD(B, verbose=true)"
   ]
  },
  {
   "cell_type": "markdown",
   "metadata": {},
   "source": [
    "We can solve either with BlockVecs, or ordinary vecs."
   ]
  },
  {
   "cell_type": "code",
   "execution_count": 22,
   "metadata": {
    "ExecuteTime": {
     "end_time": "2019-07-29T10:47:49.355000-04:00",
     "start_time": "2019-07-29T14:47:15.281Z"
    }
   },
   "outputs": [
    {
     "name": "stdout",
     "output_type": "stream",
     "text": [
      "PCG stopped after: 0.0 seconds and 9 iterations with relative error 8.230187662861582e-8.\n"
     ]
    },
    {
     "data": {
      "text/plain": [
       "20-element Array{Float64,1}:\n",
       " -2.4028579477129344 \n",
       "  0.8224372934294162 \n",
       " -1.250522521802219  \n",
       " -1.6314853367104822 \n",
       " -0.898432169913525  \n",
       "  0.25433062729447226\n",
       " -0.08492998940612545\n",
       " -0.6934734395229742 \n",
       "  0.19850029055403615\n",
       "  0.6889350180873219 \n",
       "  1.5258385708676305 \n",
       " -0.4358129454339404 \n",
       " -2.3321021748724675 \n",
       " -0.9016260320518082 \n",
       " -1.7727272740489426 \n",
       "  0.19698618503819953\n",
       "  2.227398266725205  \n",
       "  1.7900151429804345 \n",
       " -0.08540385270388243\n",
       " -2.0914512161973726 "
      ]
     },
     "execution_count": 22,
     "metadata": {},
     "output_type": "execute_result"
    }
   ],
   "source": [
    "b = randn(20)\n",
    "x = sol(b)"
   ]
  },
  {
   "cell_type": "code",
   "execution_count": 23,
   "metadata": {
    "ExecuteTime": {
     "end_time": "2019-07-29T10:47:49.383000-04:00",
     "start_time": "2019-07-29T14:47:15.282Z"
    }
   },
   "outputs": [
    {
     "data": {
      "text/plain": [
       "3.5513116711894246e-7"
      ]
     },
     "execution_count": 23,
     "metadata": {},
     "output_type": "execute_result"
    }
   ],
   "source": [
    "norm(sB*x - b)"
   ]
  },
  {
   "cell_type": "code",
   "execution_count": 24,
   "metadata": {
    "ExecuteTime": {
     "end_time": "2019-07-29T10:47:49.409000-04:00",
     "start_time": "2019-07-29T14:47:15.284Z"
    }
   },
   "outputs": [
    {
     "data": {
      "text/plain": [
       "10-element reinterpret(StaticArrays.SArray{Tuple{2},Float64,1,2}, ::Array{Float64,1}):\n",
       " [-1.458, 1.79734]      \n",
       " [-0.906487, -0.97022]  \n",
       " [-0.768929, -0.395993] \n",
       " [0.475183, 0.638632]   \n",
       " [-0.398748, -0.0803466]\n",
       " [1.00184, -0.704845]   \n",
       " [-1.43405, 0.434751]   \n",
       " [-0.0922058, -0.464083]\n",
       " [2.18783, 0.579141]    \n",
       " [-0.914724, -0.15506]  "
      ]
     },
     "execution_count": 24,
     "metadata": {},
     "output_type": "execute_result"
    }
   ],
   "source": [
    "bb = BlockVec(2, b)"
   ]
  },
  {
   "cell_type": "code",
   "execution_count": 25,
   "metadata": {
    "ExecuteTime": {
     "end_time": "2019-07-29T10:47:49.455000-04:00",
     "start_time": "2019-07-29T14:47:15.285Z"
    }
   },
   "outputs": [
    {
     "name": "stdout",
     "output_type": "stream",
     "text": [
      "PCG stopped after: 0.0 seconds and 9 iterations with relative error 8.230187662861582e-8.\n"
     ]
    },
    {
     "data": {
      "text/plain": [
       "10-element Array{StaticArrays.SArray{Tuple{2},Float64,1,2},1}:\n",
       " [-2.40286, 0.822437]  \n",
       " [-1.25052, -1.63149]  \n",
       " [-0.898432, 0.254331] \n",
       " [-0.08493, -0.693473] \n",
       " [0.1985, 0.688935]    \n",
       " [1.52584, -0.435813]  \n",
       " [-2.3321, -0.901626]  \n",
       " [-1.77273, 0.196986]  \n",
       " [2.2274, 1.79002]     \n",
       " [-0.0854039, -2.09145]"
      ]
     },
     "execution_count": 25,
     "metadata": {},
     "output_type": "execute_result"
    }
   ],
   "source": [
    "xb = sol(bb)"
   ]
  },
  {
   "cell_type": "markdown",
   "metadata": {},
   "source": [
    "Note that we can multiply BlockCSC matrices by BlockVecs"
   ]
  },
  {
   "cell_type": "code",
   "execution_count": 26,
   "metadata": {
    "ExecuteTime": {
     "end_time": "2019-07-29T10:47:49.486000-04:00",
     "start_time": "2019-07-29T14:47:15.287Z"
    }
   },
   "outputs": [
    {
     "data": {
      "text/plain": [
       "10-element Array{StaticArrays.SArray{Tuple{2},Float64,1,2},1}:\n",
       " [-1.458, 1.79734]      \n",
       " [-0.906487, -0.97022]  \n",
       " [-0.768929, -0.395993] \n",
       " [0.475183, 0.638632]   \n",
       " [-0.398748, -0.0803466]\n",
       " [1.00184, -0.704845]   \n",
       " [-1.43405, 0.434751]   \n",
       " [-0.0922056, -0.464083]\n",
       " [2.18783, 0.579141]    \n",
       " [-0.914724, -0.15506]  "
      ]
     },
     "execution_count": 26,
     "metadata": {},
     "output_type": "execute_result"
    }
   ],
   "source": [
    "B*xb"
   ]
  },
  {
   "cell_type": "code",
   "execution_count": 27,
   "metadata": {
    "ExecuteTime": {
     "end_time": "2019-07-29T10:47:49.627000-04:00",
     "start_time": "2019-07-29T14:47:15.289Z"
    }
   },
   "outputs": [
    {
     "data": {
      "text/plain": [
       "10-element Array{StaticArrays.SArray{Tuple{2},Float64,1,2},1}:\n",
       " [5.74319e-8, 1.93786e-8]  \n",
       " [7.27519e-8, -5.61213e-8] \n",
       " [-5.40515e-8, -4.54478e-8]\n",
       " [7.17976e-8, 2.28316e-8]  \n",
       " [-2.60333e-8, 3.60279e-8] \n",
       " [-1.3279e-8, 9.34246e-9]  \n",
       " [-1.70287e-7, -1.70453e-7]\n",
       " [1.93287e-7, -6.80881e-8] \n",
       " [-2.89989e-8, -7.67631e-9]\n",
       " [1.21243e-8, 2.05526e-9]  "
      ]
     },
     "execution_count": 27,
     "metadata": {},
     "output_type": "execute_result"
    }
   ],
   "source": [
    "B*xb - bb"
   ]
  },
  {
   "cell_type": "code",
   "execution_count": null,
   "metadata": {},
   "outputs": [],
   "source": []
  }
 ],
 "metadata": {
  "@webio": {
   "lastCommId": null,
   "lastKernelId": null
  },
  "kernelspec": {
   "display_name": "Julia 1.1.1",
   "language": "julia",
   "name": "julia-1.1"
  },
  "language_info": {
   "file_extension": ".jl",
   "mimetype": "application/julia",
   "name": "julia",
   "version": "1.1.1"
  },
  "toc": {
   "base_numbering": 1,
   "nav_menu": {},
   "number_sections": true,
   "sideBar": true,
   "skip_h1_title": false,
   "title_cell": "Table of Contents",
   "title_sidebar": "Contents",
   "toc_cell": false,
   "toc_position": {},
   "toc_section_display": true,
   "toc_window_display": true
  }
 },
 "nbformat": 4,
 "nbformat_minor": 2
}
